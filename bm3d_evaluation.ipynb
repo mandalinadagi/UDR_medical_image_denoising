{
 "cells": [
  {
   "cell_type": "code",
   "execution_count": 1,
   "id": "c00afe24",
   "metadata": {},
   "outputs": [],
   "source": [
    "import numpy as np\n",
    "import skimage.io\n",
    "from skimage.metrics import peak_signal_noise_ratio as compare_psnr\n",
    "from skimage.metrics import structural_similarity as compare_ssim\n",
    "import bm3d\n",
    "import os\n",
    "import matplotlib.pyplot as plt"
   ]
  },
  {
   "cell_type": "code",
   "execution_count": 2,
   "id": "50cf442c",
   "metadata": {},
   "outputs": [],
   "source": [
    "def bm3d_output(gt_path, noisy_path, noise_factor, result_path):\n",
    "        \n",
    "    nf = str(noise_factor).replace(\".\", \"\")\n",
    "    noise_psnr_total = 0\n",
    "    bm3d_psnr_total  = 0\n",
    "\n",
    "    noise_ssim_total = 0\n",
    "    bm3d_ssim_total  = 0\n",
    "    \n",
    "    for root, dirs, files in os.walk(gt_path, topdown=False):\n",
    "        for name in files:\n",
    "            img = skimage.io.imread(gt_path + name)\n",
    "            \n",
    "            noisy_img = skimage.io.imread(noisy_path + nf + '/' + nf + '_' + name)\n",
    "            noisy_img_normalized = noisy_img/255.0\n",
    "            \n",
    "            out = bm3d.bm3d(noisy_img_normalized, noise_factor)       \n",
    "            out = np.clip(out, 0,1)*255\n",
    "            out = out.astype('uint8')\n",
    "            \n",
    "            noise_psnr_total += compare_psnr(img, noisy_img)\n",
    "            bm3d_psnr_total += compare_psnr(img, out)\n",
    "            \n",
    "            noise_ssim_total += compare_ssim(img, noisy_img, channel_axis=2)\n",
    "            bm3d_ssim_total += compare_ssim(img, out, channel_axis=2)\n",
    "            \n",
    "            skimage.io.imsave(result_path + 'bm3d_' + name, out)\n",
    "        \n",
    "    noise_psnr_total /= len(files)\n",
    "    bm3d_psnr_total /= len(files)\n",
    "    noise_ssim_total /= len(files)\n",
    "    bm3d_ssim_total /= len(files)\n",
    "    \n",
    "    print(\"Noise PSNR: \", noise_psnr_total)\n",
    "    print(\"BM3D PSNR: \", bm3d_psnr_total)\n",
    "    print(\"Noise SSIM: \", noise_ssim_total)\n",
    "    print(\"BM3D SSIM: \", bm3d_ssim_total)\n",
    "    \n",
    "    return noise_psnr_total, bm3d_psnr_total, noise_psnr_total, noise_ssim_total"
   ]
  },
  {
   "cell_type": "code",
   "execution_count": 3,
   "id": "645ea56f",
   "metadata": {},
   "outputs": [],
   "source": [
    "noise_factor = 0.3\n",
    "nf = str(noise_factor).replace(\".\", \"\")"
   ]
  },
  {
   "cell_type": "code",
   "execution_count": 4,
   "id": "ba5b65b6",
   "metadata": {},
   "outputs": [],
   "source": [
    "mri_test_path = './data/mri_images_gt/bt_gt_test/'\n",
    "ct_path = './data/ct_images_gt/'\n",
    "lympho_path = './data/lymphocytes_images_gt/'\n",
    "\n",
    "mri_test_path_noisy = mri_test_path + '../bt_noisy_test/'\n",
    "ct_path_noisy = ct_path + '../ct_noisy/'\n",
    "lympho_path_noisy = lympho_path + '../lymphocytes_noisy/'\n",
    "\n",
    "result_path_mri = './data/results/bm3d/mri_test/' + nf + '/'\n",
    "result_path_ct = './data/results/bm3d/ct_test/'  + nf + '/'\n",
    "result_path_lympho = './data/results/bm3d/lympho_test/' + nf + '/'\n",
    "\n",
    "os.makedirs(result_path_mri, exist_ok=True)\n",
    "os.makedirs(result_path_ct, exist_ok=True)\n",
    "os.makedirs(result_path_lympho, exist_ok=True)"
   ]
  },
  {
   "cell_type": "code",
   "execution_count": 5,
   "id": "0df5ce3e",
   "metadata": {},
   "outputs": [
    {
     "name": "stdout",
     "output_type": "stream",
     "text": [
      "Noise PSNR:  14.422042710888006\n",
      "BM3D PSNR:  20.320853627492458\n",
      "Noise SSIM:  0.07511282480826852\n",
      "BM3D SSIM:  0.43155152886948733\n"
     ]
    }
   ],
   "source": [
    "noise_psnr, bm3d_psnr, noise_ssim, bm3d_ssim = bm3d_output(mri_test_path, mri_test_path_noisy, noise_factor, result_path_mri)"
   ]
  },
  {
   "cell_type": "code",
   "execution_count": 6,
   "id": "6f6e001c",
   "metadata": {},
   "outputs": [
    {
     "name": "stdout",
     "output_type": "stream",
     "text": [
      "Noise PSNR:  14.101043192896306\n",
      "BM3D PSNR:  21.751941731593682\n",
      "Noise SSIM:  0.059877173004565555\n",
      "BM3D SSIM:  0.564135118451801\n"
     ]
    }
   ],
   "source": [
    "noise_psnr, bm3d_psnr, noise_ssim, bm3d_ssim = bm3d_output(ct_path, ct_path_noisy, noise_factor, result_path_ct)"
   ]
  },
  {
   "cell_type": "code",
   "execution_count": 7,
   "id": "d481ac2f",
   "metadata": {},
   "outputs": [
    {
     "name": "stdout",
     "output_type": "stream",
     "text": [
      "Noise PSNR:  13.807549973934405\n",
      "BM3D PSNR:  18.39431375533503\n",
      "Noise SSIM:  0.4114229213028708\n",
      "BM3D SSIM:  0.4307443040920647\n"
     ]
    }
   ],
   "source": [
    "noise_psnr, bm3d_psnr, noise_ssim, bm3d_ssim = bm3d_output(lympho_path, lympho_path_noisy, noise_factor, result_path_lympho)"
   ]
  },
  {
   "cell_type": "code",
   "execution_count": null,
   "id": "622e151c",
   "metadata": {},
   "outputs": [],
   "source": []
  }
 ],
 "metadata": {
  "kernelspec": {
   "display_name": "Python 3 (ipykernel)",
   "language": "python",
   "name": "python3"
  },
  "language_info": {
   "codemirror_mode": {
    "name": "ipython",
    "version": 3
   },
   "file_extension": ".py",
   "mimetype": "text/x-python",
   "name": "python",
   "nbconvert_exporter": "python",
   "pygments_lexer": "ipython3",
   "version": "3.8.10"
  }
 },
 "nbformat": 4,
 "nbformat_minor": 5
}
