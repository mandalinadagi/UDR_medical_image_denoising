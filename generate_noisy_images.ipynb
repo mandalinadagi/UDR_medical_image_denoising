{
 "cells": [
  {
   "cell_type": "code",
   "execution_count": 1,
   "id": "a1f350bc",
   "metadata": {},
   "outputs": [],
   "source": [
    "import skimage.io\n",
    "import numpy as np \n",
    "import matplotlib.pyplot as plt\n",
    "import os"
   ]
  },
  {
   "cell_type": "code",
   "execution_count": 2,
   "id": "9dde7e6e",
   "metadata": {},
   "outputs": [],
   "source": [
    "mri_train_path = './data/mri_images_gt/bt_gt_train/'\n",
    "mri_test_path = './data/mri_images_gt/bt_gt_test/'\n",
    "lympho_path = './data/lymphocytes_images_gt/'\n",
    "ct_path = './data/ct_images_gt/'"
   ]
  },
  {
   "cell_type": "code",
   "execution_count": 3,
   "id": "cbcaaed3",
   "metadata": {},
   "outputs": [],
   "source": [
    "def add_gaussian_noise(img, noise_factor):\n",
    "    w,h,c = img.shape\n",
    "    img = img.astype('float64')/255\n",
    "    noisy_img = img + noise_factor * np.random.randn(w,h,c)\n",
    "    noisy_img = np.clip(noisy_img, 0, 1)*255\n",
    "    noisy_img = noisy_img.astype('uint8')\n",
    "    return noisy_img"
   ]
  },
  {
   "cell_type": "code",
   "execution_count": 4,
   "id": "689a4521",
   "metadata": {},
   "outputs": [],
   "source": [
    "noise_factor = 0.5\n",
    "nf = str(noise_factor).replace(\".\", \"\")\n",
    "mri_train_path_noisy = mri_train_path + '../bt_noisy_train/' + nf + '/'\n",
    "os.makedirs(mri_train_path_noisy, exist_ok=True)\n",
    "\n",
    "mri_test_path_noisy = mri_test_path + '../bt_noisy_test/' + nf + '/'\n",
    "os.makedirs(mri_test_path_noisy, exist_ok=True)\n",
    "\n",
    "lympho_path_noisy = lympho_path + '../lymphocytes_noisy/' + nf + '/'\n",
    "os.makedirs(lympho_path_noisy, exist_ok=True)\n",
    "\n",
    "ct_path_noisy = ct_path + '../ct_noisy/' + nf + '/'\n",
    "os.makedirs(ct_path_noisy, exist_ok=True)"
   ]
  },
  {
   "cell_type": "code",
   "execution_count": 5,
   "id": "f3cf72cd",
   "metadata": {},
   "outputs": [],
   "source": [
    "def prep_noisy_img(gt_path, noisy_path, nf):\n",
    "    for root, dirs, files in os.walk(gt_path, topdown=False):\n",
    "        for name in files:\n",
    "            img = skimage.io.imread(gt_path + name)\n",
    "            noisy_img = add_gaussian_noise(img, noise_factor)\n",
    "            skimage.io.imsave(noisy_path + nf + '_' + name, noisy_img)"
   ]
  },
  {
   "cell_type": "code",
   "execution_count": 6,
   "id": "fedcc284",
   "metadata": {},
   "outputs": [],
   "source": [
    "prep_noisy_img(mri_train_path, mri_train_path_noisy, nf)"
   ]
  },
  {
   "cell_type": "code",
   "execution_count": 7,
   "id": "3cf5e9e0",
   "metadata": {},
   "outputs": [],
   "source": [
    "prep_noisy_img(mri_test_path, mri_test_path_noisy, nf)"
   ]
  },
  {
   "cell_type": "code",
   "execution_count": 8,
   "id": "91c010fb",
   "metadata": {},
   "outputs": [],
   "source": [
    "prep_noisy_img(lympho_path, lympho_path_noisy, nf)"
   ]
  },
  {
   "cell_type": "code",
   "execution_count": 9,
   "id": "bec00c13",
   "metadata": {},
   "outputs": [],
   "source": [
    "prep_noisy_img(ct_path, ct_path_noisy, nf)"
   ]
  },
  {
   "cell_type": "code",
   "execution_count": 10,
   "id": "0b030bf7",
   "metadata": {},
   "outputs": [],
   "source": [
    "def calculate_snr(img, noisy_img):\n",
    "    power_img   = np.sqrt(np.mean(img**2))\n",
    "    noise       = img - noisy_img\n",
    "    power_noise = np.sqrt(np.mean(noise**2))\n",
    "    snr = 20 *(np.log10(power_img/power_noise))\n",
    "    return snr"
   ]
  },
  {
   "cell_type": "code",
   "execution_count": null,
   "id": "3da70e1d",
   "metadata": {},
   "outputs": [],
   "source": []
  },
  {
   "cell_type": "code",
   "execution_count": null,
   "id": "0a83ef83",
   "metadata": {},
   "outputs": [],
   "source": []
  }
 ],
 "metadata": {
  "kernelspec": {
   "display_name": "Python 3 (ipykernel)",
   "language": "python",
   "name": "python3"
  },
  "language_info": {
   "codemirror_mode": {
    "name": "ipython",
    "version": 3
   },
   "file_extension": ".py",
   "mimetype": "text/x-python",
   "name": "python",
   "nbconvert_exporter": "python",
   "pygments_lexer": "ipython3",
   "version": "3.8.10"
  }
 },
 "nbformat": 4,
 "nbformat_minor": 5
}
