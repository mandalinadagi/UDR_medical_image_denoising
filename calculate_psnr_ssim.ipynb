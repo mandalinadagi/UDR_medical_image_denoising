{
 "cells": [
  {
   "cell_type": "code",
   "execution_count": 1,
   "id": "c00afe24",
   "metadata": {},
   "outputs": [],
   "source": [
    "import numpy as np\n",
    "import skimage.io\n",
    "from skimage.metrics import peak_signal_noise_ratio as compare_psnr\n",
    "from skimage.metrics import structural_similarity as compare_ssim\n",
    "import os"
   ]
  },
  {
   "cell_type": "code",
   "execution_count": 2,
   "id": "50cf442c",
   "metadata": {},
   "outputs": [],
   "source": [
    "def psnr_ssim_eval(gt_path, predicted_path, noise_factor):\n",
    "        \n",
    "    nf = str(noise_factor).replace(\".\", \"\")\n",
    "    psnr_total  = 0\n",
    "    ssim_total  = 0\n",
    "    \n",
    "    for root, dirs, files in os.walk(gt_path, topdown=False):\n",
    "        for name in files:\n",
    "            img = skimage.io.imread(gt_path + name)\n",
    "            out = skimage.io.imread(predicted_path + nf + '_' + name[:-4] + '_UDR.png')\n",
    "            h, w, c = out.shape\n",
    "            img = img[:h, :w, :]\n",
    "            psnr_total += compare_psnr(img, out)\n",
    "            ssim_total += compare_ssim(img, out, channel_axis=2)\n",
    "                    \n",
    "    psnr_total /= len(files)\n",
    "    ssim_total /= len(files)\n",
    "    \n",
    "    print(\"PSNR: \", psnr_total)\n",
    "    print(\"SSIM: \", ssim_total)\n",
    "    \n",
    "    return psnr_total, ssim_total"
   ]
  },
  {
   "cell_type": "code",
   "execution_count": 3,
   "id": "645ea56f",
   "metadata": {},
   "outputs": [],
   "source": [
    "noise_factor = 0.3\n",
    "nf = str(noise_factor).replace(\".\", \"\")\n",
    "exp_no = 5"
   ]
  },
  {
   "cell_type": "code",
   "execution_count": 4,
   "id": "ba5b65b6",
   "metadata": {},
   "outputs": [],
   "source": [
    "mri_test_path = './data/mri_images_gt/bt_gt_test/'\n",
    "ct_path = './data/ct_images_gt/'\n",
    "lympho_path = './data/lymphocytes_images_gt/'\n",
    "\n",
    "mri_test_path_out = './data/results/exp' + str(exp_no) + '/predictions/mri/' \n",
    "ct_path_out = './data/results/exp' + str(exp_no) + '/predictions/ct/' \n",
    "lympho_path_out = './data/results/exp' + str(exp_no) + '/predictions/lymphocytes/' \n"
   ]
  },
  {
   "cell_type": "code",
   "execution_count": 5,
   "id": "0df5ce3e",
   "metadata": {},
   "outputs": [
    {
     "name": "stdout",
     "output_type": "stream",
     "text": [
      "PSNR:  32.316033370126334\n",
      "SSIM:  0.8361775454961643\n"
     ]
    }
   ],
   "source": [
    "psnr, ssim = psnr_ssim_eval(mri_test_path, mri_test_path_out, noise_factor)"
   ]
  },
  {
   "cell_type": "code",
   "execution_count": 6,
   "id": "6f6e001c",
   "metadata": {},
   "outputs": [
    {
     "name": "stdout",
     "output_type": "stream",
     "text": [
      "PSNR:  32.333467414228494\n",
      "SSIM:  0.828365740461047\n"
     ]
    }
   ],
   "source": [
    "psnr, ssim = psnr_ssim_eval(ct_path, ct_path_out, noise_factor)"
   ]
  },
  {
   "cell_type": "code",
   "execution_count": 7,
   "id": "d481ac2f",
   "metadata": {},
   "outputs": [
    {
     "name": "stdout",
     "output_type": "stream",
     "text": [
      "PSNR:  17.25825399848916\n",
      "SSIM:  0.6120010239307034\n"
     ]
    }
   ],
   "source": [
    "psnr, ssim = psnr_ssim_eval(lympho_path, lympho_path_out, noise_factor)"
   ]
  },
  {
   "cell_type": "code",
   "execution_count": null,
   "id": "622e151c",
   "metadata": {},
   "outputs": [],
   "source": []
  }
 ],
 "metadata": {
  "kernelspec": {
   "display_name": "Python 3 (ipykernel)",
   "language": "python",
   "name": "python3"
  },
  "language_info": {
   "codemirror_mode": {
    "name": "ipython",
    "version": 3
   },
   "file_extension": ".py",
   "mimetype": "text/x-python",
   "name": "python",
   "nbconvert_exporter": "python",
   "pygments_lexer": "ipython3",
   "version": "3.8.10"
  }
 },
 "nbformat": 4,
 "nbformat_minor": 5
}
