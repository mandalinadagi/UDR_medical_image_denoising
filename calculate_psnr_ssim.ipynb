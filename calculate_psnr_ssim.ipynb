{
 "cells": [
  {
   "cell_type": "code",
   "execution_count": null,
   "id": "c00afe24",
   "metadata": {},
   "outputs": [],
   "source": [
    "import numpy as np\n",
    "import skimage.io\n",
    "from skimage.metrics import peak_signal_noise_ratio as compare_psnr\n",
    "from skimage.metrics import structural_similarity as compare_ssim"
   ]
  },
  {
   "cell_type": "code",
   "execution_count": null,
   "id": "50cf442c",
   "metadata": {},
   "outputs": [],
   "source": [
    "def psnr_ssim_eval(gt_path, predicted_path, noise_factor):\n",
    "        \n",
    "    nf = str(noise_factor).replace(\".\", \"\")\n",
    "    psnr_total  = 0\n",
    "    ssim_total  = 0\n",
    "    \n",
    "    for root, dirs, files in os.walk(gt_path, topdown=False):\n",
    "        for name in files:\n",
    "            img = skimage.io.imread(gt_path + name)\n",
    "            out = skimage.io.imread(predicted_path + name)\n",
    "            psnr_total += compare_psnr(img, out)\n",
    "            ssim_total += compare_ssim(img, out, channel_axis=2)\n",
    "                    \n",
    "    psnr_total /= len(files)\n",
    "    ssim_total /= len(files)\n",
    "    \n",
    "    print(\"PSNR: \", psnr_total)\n",
    "    print(\"SSIM: \", ssim_total)\n",
    "    \n",
    "    return psnr_total, ssim_total"
   ]
  },
  {
   "cell_type": "code",
   "execution_count": null,
   "id": "645ea56f",
   "metadata": {},
   "outputs": [],
   "source": [
    "noise_factor = 0.3\n",
    "nf = str(noise_factor).replace(\".\", \"\")"
   ]
  },
  {
   "cell_type": "code",
   "execution_count": null,
   "id": "ba5b65b6",
   "metadata": {},
   "outputs": [],
   "source": [
    "mri_test_path = './data/mri_images_gt/bt_gt_test/'\n",
    "ct_path = './data/ct_images_gt/'\n",
    "lympho_path = './data/lymphocytes_images_gt/'\n",
    "\n",
    "mri_test_path_out = mri_test_path + '../bt_noisy_test/'\n",
    "ct_path_out = ct_path + '../ct_noisy/'\n",
    "lympho_path_out = lympho_path + '../lymphocytes_noisy/'\n"
   ]
  },
  {
   "cell_type": "code",
   "execution_count": null,
   "id": "0df5ce3e",
   "metadata": {},
   "outputs": [],
   "source": [
    "psnr, ssim = psnr_ssim_eval(mri_test_path, mri_test_path_out, noise_factor)"
   ]
  },
  {
   "cell_type": "code",
   "execution_count": null,
   "id": "6f6e001c",
   "metadata": {},
   "outputs": [],
   "source": [
    "psnr, ssim = psnr_ssim_eval(ct_path, ct_path_out, noise_factor)"
   ]
  },
  {
   "cell_type": "code",
   "execution_count": null,
   "id": "d481ac2f",
   "metadata": {},
   "outputs": [],
   "source": [
    "psnr, ssim = psnr_ssim_eval(lympho_path, lympho_path_out, noise_factor)"
   ]
  },
  {
   "cell_type": "code",
   "execution_count": null,
   "id": "622e151c",
   "metadata": {},
   "outputs": [],
   "source": []
  }
 ],
 "metadata": {
  "kernelspec": {
   "display_name": "Python 3 (ipykernel)",
   "language": "python",
   "name": "python3"
  },
  "language_info": {
   "codemirror_mode": {
    "name": "ipython",
    "version": 3
   },
   "file_extension": ".py",
   "mimetype": "text/x-python",
   "name": "python",
   "nbconvert_exporter": "python",
   "pygments_lexer": "ipython3",
   "version": "3.8.10"
  }
 },
 "nbformat": 4,
 "nbformat_minor": 5
}
