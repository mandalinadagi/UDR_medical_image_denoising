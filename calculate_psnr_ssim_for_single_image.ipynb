{
 "cells": [
  {
   "cell_type": "code",
   "execution_count": 24,
   "id": "c00afe24",
   "metadata": {},
   "outputs": [],
   "source": [
    "import numpy as np\n",
    "import skimage.io\n",
    "from skimage.metrics import peak_signal_noise_ratio as compare_psnr\n",
    "from skimage.metrics import structural_similarity as compare_ssim\n",
    "import os"
   ]
  },
  {
   "cell_type": "code",
   "execution_count": 33,
   "id": "645ea56f",
   "metadata": {},
   "outputs": [],
   "source": [
    "noise_factor = 0.3\n",
    "nf = str(noise_factor).replace(\".\", \"\")\n",
    "exp_no = 0\n",
    "exp_name = 'tv'"
   ]
  },
  {
   "cell_type": "code",
   "execution_count": 34,
   "id": "ba5b65b6",
   "metadata": {},
   "outputs": [],
   "source": [
    "mri_test_path = './data/mri_images_gt/bt_gt_test/'\n",
    "ct_test_path = './data/ct_images_gt/'\n",
    "lympho_test_path = './data/lymphocytes_images_gt/'\n",
    "\n",
    "if exp_no != 0:\n",
    "    mri_test_path_out = './data/results/exp' + str(exp_no) + '/predictions/mri/' \n",
    "    ct_test_path_out = './data/results/exp' + str(exp_no) + '/predictions/ct/' \n",
    "    lympho_test_path_out = './data/results/exp' + str(exp_no) + '/predictions/lymphocytes/' \n",
    "else:\n",
    "    if exp_name == 'noisy':\n",
    "        mri_test_path_out = './data/mri_images_gt/bt_noisy_test/' + nf + '/' + nf + '_'\n",
    "        ct_test_path_out = './data/ct_noisy/' + nf + '/' + nf + '_'\n",
    "        lympho_test_path_out = './data/lymphocytes_noisy/' + nf + '/'+ nf + '_'\n",
    "        \n",
    "    elif exp_name == 'gaussian':\n",
    "        mri_test_path_out = './data/results/' + exp_name + '/mri_test/' + nf + '/' + exp_name + '__'\n",
    "        ct_test_path_out = './data/results/' + exp_name + '/ct_test/' + nf + '/' + exp_name + '__'\n",
    "        lympho_test_path_out = './data/results/' + exp_name + '/lymphocytes_test/' + nf + '/' + exp_name + '__'\n",
    "        \n",
    "    elif exp_name == 'median':\n",
    "        mri_test_path_out = './data/results/' + exp_name + '/mri_test/' + nf + '/' + exp_name + '_3_'\n",
    "        ct_test_path_out = './data/results/' + exp_name + '/ct_test/' + nf + '/' + exp_name + '_3_'\n",
    "        lympho_test_path_out = './data/results/' + exp_name + '/lymphocytes_test/' + nf + '/' + exp_name + '_3_'\n",
    "        \n",
    "    elif exp_name == 'tv' or exp_name == 'bm3d':\n",
    "        mri_test_path_out = './data/results/' + exp_name + '/mri_test/' + nf + '/' + exp_name + '_'\n",
    "        ct_test_path_out = './data/results/' + exp_name + '/ct_test/' + nf + '/' + exp_name + '_'\n",
    "        lympho_test_path_out = './data/results/' + exp_name + '/lymphocytes_test/' + nf + '/' + exp_name + '_'"
   ]
  },
  {
   "cell_type": "code",
   "execution_count": 35,
   "id": "0df5ce3e",
   "metadata": {},
   "outputs": [],
   "source": [
    "name = '9'\n",
    "gt_path = ct_test_path\n",
    "predicted_path = ct_test_path_out"
   ]
  },
  {
   "cell_type": "code",
   "execution_count": 36,
   "id": "50cf442c",
   "metadata": {},
   "outputs": [
    {
     "name": "stdout",
     "output_type": "stream",
     "text": [
      "PSNR: 21.537\n",
      "SSIM: 0.429\n"
     ]
    }
   ],
   "source": [
    "if exp_no != 0:\n",
    "    img = skimage.io.imread(gt_path + name + '.jpg')\n",
    "    out = skimage.io.imread(predicted_path + nf + '_' + name + '_UDR.png')\n",
    "else: \n",
    "    img = skimage.io.imread(gt_path + name + '.jpg')\n",
    "    out = skimage.io.imread(predicted_path + name + '.jpg')\n",
    "    \n",
    "h, w, c = out.shape\n",
    "img = img[:h, :w, :]\n",
    "psnr = compare_psnr(img, out)\n",
    "ssim = compare_ssim(img, out, channel_axis=2)    \n",
    "\n",
    "print(\"PSNR: %.3f\" %psnr)\n",
    "print(\"SSIM: %.3f\" %ssim)"
   ]
  },
  {
   "cell_type": "code",
   "execution_count": null,
   "id": "622e151c",
   "metadata": {},
   "outputs": [],
   "source": []
  },
  {
   "cell_type": "code",
   "execution_count": null,
   "id": "3d6c6655",
   "metadata": {},
   "outputs": [],
   "source": []
  }
 ],
 "metadata": {
  "kernelspec": {
   "display_name": "Python 3 (ipykernel)",
   "language": "python",
   "name": "python3"
  },
  "language_info": {
   "codemirror_mode": {
    "name": "ipython",
    "version": 3
   },
   "file_extension": ".py",
   "mimetype": "text/x-python",
   "name": "python",
   "nbconvert_exporter": "python",
   "pygments_lexer": "ipython3",
   "version": "3.8.10"
  }
 },
 "nbformat": 4,
 "nbformat_minor": 5
}
