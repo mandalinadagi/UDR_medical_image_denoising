{
 "cells": [
  {
   "cell_type": "code",
   "execution_count": 16,
   "id": "c00afe24",
   "metadata": {},
   "outputs": [],
   "source": [
    "import numpy as np\n",
    "import skimage.io\n",
    "from skimage import filters\n",
    "from skimage.metrics import peak_signal_noise_ratio as compare_psnr\n",
    "from skimage.metrics import structural_similarity as compare_ssim\n",
    "import os\n",
    "import matplotlib.pyplot as plt"
   ]
  },
  {
   "cell_type": "code",
   "execution_count": 29,
   "id": "50cf442c",
   "metadata": {},
   "outputs": [],
   "source": [
    "def gaussian_filter_output(gt_path, noisy_path, noise_factor, result_path):\n",
    "        \n",
    "    nf = str(noise_factor).replace(\".\", \"\")\n",
    "    psnr_total  = 0\n",
    "    ssim_total  = 0\n",
    "    \n",
    "    for root, dirs, files in os.walk(gt_path, topdown=False):\n",
    "        for name in files:\n",
    "            img = skimage.io.imread(gt_path + name)\n",
    "            \n",
    "            noisy_img = skimage.io.imread(noisy_path + nf + '/' + nf + '_' + name)\n",
    "            noisy_img_normalized = noisy_img/255.0\n",
    "            out = filters.gaussian(noisy_img_normalized, sigma=3)\n",
    "            out = np.clip(out, 0,1)*255\n",
    "            out = out.astype('uint8')\n",
    "            \n",
    "            psnr_total += compare_psnr(img, out)\n",
    "            ssim_total += compare_ssim(img, out, channel_axis=2)\n",
    "            \n",
    "            skimage.io.imsave(result_path + 'gaussian_' + '_' + name, out)\n",
    "        \n",
    "    psnr_total /= len(files)\n",
    "    ssim_total /= len(files)\n",
    "    \n",
    "    print(\"PSNR: \", psnr_total)\n",
    "    print(\"SSIM: \", ssim_total)\n",
    "    \n",
    "    return psnr_total, ssim_total"
   ]
  },
  {
   "cell_type": "code",
   "execution_count": 30,
   "id": "645ea56f",
   "metadata": {},
   "outputs": [],
   "source": [
    "noise_factor = 0.3\n",
    "nf = str(noise_factor).replace(\".\", \"\")"
   ]
  },
  {
   "cell_type": "code",
   "execution_count": 31,
   "id": "ba5b65b6",
   "metadata": {},
   "outputs": [],
   "source": [
    "mri_test_path = './data/mri_images_gt/bt_gt_test/'\n",
    "ct_path = './data/ct_images_gt/'\n",
    "lympho_path = './data/lymphocytes_images_gt/'\n",
    "\n",
    "mri_test_path_noisy = mri_test_path + '../bt_noisy_test/'\n",
    "ct_path_noisy = ct_path + '../ct_noisy/'\n",
    "lympho_path_noisy = lympho_path + '../lymphocytes_noisy/'\n",
    "\n",
    "result_path_mri = './data/results/gaussian/mri_test/' + nf + '/'\n",
    "result_path_ct = './data/results/gaussian/ct_test/'  + nf + '/'\n",
    "result_path_lympho = './data/results/gaussian/lympho_test/' + nf + '/'\n",
    "\n",
    "os.makedirs(result_path_mri, exist_ok=True)\n",
    "os.makedirs(result_path_ct, exist_ok=True)\n",
    "os.makedirs(result_path_lympho, exist_ok=True)"
   ]
  },
  {
   "cell_type": "code",
   "execution_count": 32,
   "id": "0df5ce3e",
   "metadata": {},
   "outputs": [
    {
     "name": "stdout",
     "output_type": "stream",
     "text": [
      "PSNR:  19.652695346187862\n",
      "SSIM:  0.389841032777331\n"
     ]
    }
   ],
   "source": [
    "psnr, ssim = gaussian_filter_output(mri_test_path, mri_test_path_noisy, noise_factor, result_path_mri)"
   ]
  },
  {
   "cell_type": "code",
   "execution_count": 33,
   "id": "6f6e001c",
   "metadata": {},
   "outputs": [
    {
     "name": "stdout",
     "output_type": "stream",
     "text": [
      "PSNR:  21.07209649080175\n",
      "SSIM:  0.5011934526179\n"
     ]
    }
   ],
   "source": [
    "psnr, ssim = gaussian_filter_output(ct_path, ct_path_noisy, noise_factor, result_path_ct)"
   ]
  },
  {
   "cell_type": "code",
   "execution_count": 34,
   "id": "d481ac2f",
   "metadata": {},
   "outputs": [
    {
     "name": "stdout",
     "output_type": "stream",
     "text": [
      "PSNR:  16.928257095578637\n",
      "SSIM:  0.2654147345004404\n"
     ]
    }
   ],
   "source": [
    "psnr, ssim = gaussian_filter_output(lympho_path, lympho_path_noisy, noise_factor, result_path_lympho)"
   ]
  },
  {
   "cell_type": "code",
   "execution_count": null,
   "id": "622e151c",
   "metadata": {},
   "outputs": [],
   "source": []
  }
 ],
 "metadata": {
  "kernelspec": {
   "display_name": "Python 3 (ipykernel)",
   "language": "python",
   "name": "python3"
  },
  "language_info": {
   "codemirror_mode": {
    "name": "ipython",
    "version": 3
   },
   "file_extension": ".py",
   "mimetype": "text/x-python",
   "name": "python",
   "nbconvert_exporter": "python",
   "pygments_lexer": "ipython3",
   "version": "3.8.10"
  }
 },
 "nbformat": 4,
 "nbformat_minor": 5
}
