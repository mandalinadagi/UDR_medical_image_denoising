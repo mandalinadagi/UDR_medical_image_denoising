{
 "cells": [
  {
   "cell_type": "code",
   "execution_count": 1,
   "id": "c00afe24",
   "metadata": {},
   "outputs": [],
   "source": [
    "import numpy as np\n",
    "import skimage.io\n",
    "from scipy import ndimage\n",
    "from skimage.metrics import peak_signal_noise_ratio as compare_psnr\n",
    "from skimage.metrics import structural_similarity as compare_ssim\n",
    "import os\n",
    "import matplotlib.pyplot as plt"
   ]
  },
  {
   "cell_type": "code",
   "execution_count": 2,
   "id": "50cf442c",
   "metadata": {},
   "outputs": [],
   "source": [
    "def median_filter_output(gt_path, noisy_path, noise_factor, kernel_size, result_path):\n",
    "        \n",
    "    nf = str(noise_factor).replace(\".\", \"\")\n",
    "    psnr_total  = 0\n",
    "    ssim_total  = 0\n",
    "    \n",
    "    for root, dirs, files in os.walk(gt_path, topdown=False):\n",
    "        for name in files:\n",
    "            img = skimage.io.imread(gt_path + name)\n",
    "            \n",
    "            noisy_img = skimage.io.imread(noisy_path + nf + '/' + nf + '_' + name)\n",
    "            noisy_img_normalized = noisy_img/255.0\n",
    "            out = ndimage.median_filter(noisy_img_normalized, kernel_size)\n",
    "            out = np.clip(out, 0,1)*255\n",
    "            out = out.astype('uint8')\n",
    "            \n",
    "            psnr_total += compare_psnr(img, out)\n",
    "            ssim_total += compare_ssim(img, out, channel_axis=2)\n",
    "            \n",
    "            skimage.io.imsave(result_path + 'median_' + str(kernel_size) + '_' + name, out)\n",
    "        \n",
    "    psnr_total /= len(files)\n",
    "    ssim_total /= len(files)\n",
    "    \n",
    "    print(\"PSNR: \", psnr_total)\n",
    "    print(\"SSIM: \", ssim_total)\n",
    "    \n",
    "    return psnr_total, ssim_total"
   ]
  },
  {
   "cell_type": "code",
   "execution_count": 3,
   "id": "645ea56f",
   "metadata": {},
   "outputs": [],
   "source": [
    "noise_factor = 0.3\n",
    "nf = str(noise_factor).replace(\".\", \"\")\n",
    "kernel_size = 3"
   ]
  },
  {
   "cell_type": "code",
   "execution_count": 4,
   "id": "ba5b65b6",
   "metadata": {},
   "outputs": [],
   "source": [
    "mri_test_path = './data/mri_images_gt/bt_gt_test/'\n",
    "ct_path = './data/ct_images_gt/'\n",
    "lympho_path = './data/lymphocytes_images_gt/'\n",
    "\n",
    "mri_test_path_noisy = mri_test_path + '../bt_noisy_test/'\n",
    "ct_path_noisy = ct_path + '../ct_noisy/'\n",
    "lympho_path_noisy = lympho_path + '../lymphocytes_noisy/'\n",
    "\n",
    "result_path_mri = './data/results/median/mri_test/' + nf + '/'\n",
    "result_path_ct = './data/results/median/ct_test/'  + nf + '/'\n",
    "result_path_lympho = './data/results/median/lympho_test/' + nf + '/'\n",
    "\n",
    "os.makedirs(result_path_mri, exist_ok=True)\n",
    "os.makedirs(result_path_ct, exist_ok=True)\n",
    "os.makedirs(result_path_lympho, exist_ok=True)"
   ]
  },
  {
   "cell_type": "code",
   "execution_count": 5,
   "id": "0df5ce3e",
   "metadata": {},
   "outputs": [
    {
     "name": "stdout",
     "output_type": "stream",
     "text": [
      "PSNR:  20.241053079618776\n",
      "SSIM:  0.2399206214675543\n"
     ]
    }
   ],
   "source": [
    "psnr, ssim = median_filter_output(mri_test_path, mri_test_path_noisy, noise_factor, kernel_size, result_path_mri)"
   ]
  },
  {
   "cell_type": "code",
   "execution_count": 6,
   "id": "6f6e001c",
   "metadata": {},
   "outputs": [
    {
     "name": "stdout",
     "output_type": "stream",
     "text": [
      "PSNR:  20.625862021647038\n",
      "SSIM:  0.21566251955653323\n"
     ]
    }
   ],
   "source": [
    "psnr, ssim = median_filter_output(ct_path, ct_path_noisy, noise_factor, kernel_size, result_path_ct)"
   ]
  },
  {
   "cell_type": "code",
   "execution_count": 7,
   "id": "d481ac2f",
   "metadata": {},
   "outputs": [
    {
     "name": "stdout",
     "output_type": "stream",
     "text": [
      "PSNR:  17.078347169892528\n",
      "SSIM:  0.6041632442330819\n"
     ]
    }
   ],
   "source": [
    "psnr, ssim = median_filter_output(lympho_path, lympho_path_noisy, noise_factor, kernel_size, result_path_lympho)"
   ]
  },
  {
   "cell_type": "code",
   "execution_count": null,
   "id": "622e151c",
   "metadata": {},
   "outputs": [],
   "source": []
  }
 ],
 "metadata": {
  "kernelspec": {
   "display_name": "Python 3 (ipykernel)",
   "language": "python",
   "name": "python3"
  },
  "language_info": {
   "codemirror_mode": {
    "name": "ipython",
    "version": 3
   },
   "file_extension": ".py",
   "mimetype": "text/x-python",
   "name": "python",
   "nbconvert_exporter": "python",
   "pygments_lexer": "ipython3",
   "version": "3.8.10"
  }
 },
 "nbformat": 4,
 "nbformat_minor": 5
}
